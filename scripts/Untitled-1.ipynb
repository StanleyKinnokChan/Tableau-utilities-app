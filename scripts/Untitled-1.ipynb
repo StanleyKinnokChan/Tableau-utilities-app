{
 "cells": [
  {
   "cell_type": "code",
   "execution_count": 25,
   "metadata": {},
   "outputs": [
    {
     "name": "stdout",
     "output_type": "stream",
     "text": [
      "[Parameters].[period (copy)_2091922033259147318]   >>>>>    [Parameters].[period (copy)_2091922033259147318]\n",
      "[Parameters].[period (copy)_2091922033259147318]   >>>>>    [Parameters].[period (copy)_2091922033259147318]\n",
      "[Parameters].[period (copy)_2091922033259147318]   >>>>>    [Parameters].[period (copy)_2091922033259147318]\n",
      "[Parameters].[period (copy)_2091922033259147318]   >>>>>    [Parameters].[period (copy)_2091922033259147318]\n",
      "[Parameters].[period (copy)_2091922033259147318]   >>>>>    [Parameters].[period (copy)_2091922033259147318]\n",
      "[Parameters].[period (copy)_2091922033259147318]   >>>>>    [Parameters].[period (copy)_2091922033259147318]\n",
      "[Parameters].[period (copy)_2091922033259147318]   >>>>>    [Parameters].[period (copy)_2091922033259147318]\n",
      "[Parameters].[period (copy)_2091922033259147318]   >>>>>    [Parameters].[period (copy)_2091922033259147318]\n",
      "[Parameters].[period (copy)_2091922033259147318]   >>>>>    [Parameters].[period (copy)_2091922033259147318]\n",
      "[Parameters].[period (copy)_2091922033259147318]   >>>>>    [Parameters].[period (copy)_2091922033259147318]\n",
      "[Parameters].[period (copy)_2091922033259147318]   >>>>>    [Parameters].[period (copy)_2091922033259147318]\n",
      "[Parameters].[period (copy)_2091922033259147318]   >>>>>    [Parameters].[period (copy)_2091922033259147318]\n",
      "[Parameters].[period (copy)_2091922033259147318]   >>>>>    [Parameters].[period (copy)_2091922033259147318]\n",
      "[Parameters].[period (copy)_2091922033259147318]   >>>>>    [Parameters].[period (copy)_2091922033259147318]\n",
      "[Parameters].[period (copy)_2091922033259147318]   >>>>>    [Parameters].[period (copy)_2091922033259147318]\n",
      "[Parameters].[period (copy)_2091922033259147318]   >>>>>    [Parameters].[period (copy)_2091922033259147318]\n",
      "[Parameters].[period (copy)_2091922033259147318]   >>>>>    [Parameters].[period (copy)_2091922033259147318]\n",
      "[Parameters].[period (copy)_2091922033259147318]   >>>>>    [Parameters].[period (copy)_2091922033259147318]\n",
      "[Parameters].[period (copy)_2091922033259147318]   >>>>>    [Parameters].[period (copy)_2091922033259147318]\n",
      "[Parameters].[period (copy)_2091922033259147318]   >>>>>    [Parameters].[period (copy)_2091922033259147318]\n",
      "[Parameters].[period (copy)_2091922033259147318]   >>>>>    [Parameters].[period (copy)_2091922033259147318]\n",
      "[Parameters].[period (copy)_2091922033259147318]   >>>>>    [Parameters].[period (copy)_2091922033259147318]\n",
      "[Parameters].[period (copy)_2091922033259147318]   >>>>>    [Parameters].[period (copy)_2091922033259147318]\n",
      "[Parameters].[period (copy)_2091922033259147318]   >>>>>    [Parameters].[period (copy)_2091922033259147318]\n",
      "[Parameters].[period (copy)_2091922033259147318]   >>>>>    [Parameters].[period (copy)_2091922033259147318]\n",
      "[Parameters].[period (copy)_2091922033259147318]   >>>>>    [Parameters].[period (copy)_2091922033259147318]\n",
      "[Parameters].[period (copy)_2091922033259147318]   >>>>>    [Parameters].[period (copy)_2091922033259147318]\n",
      "[Parameters].[period (copy)_2091922033259147318]   >>>>>    [Parameters].[period (copy)_2091922033259147318]\n",
      "[Parameters].[period (copy)_2091922033259147318]   >>>>>    [Parameters].[period (copy)_2091922033259147318]\n",
      "[Parameters].[period (copy)_2091922033259147318]   >>>>>    [Parameters].[period (copy)_2091922033259147318]\n",
      "Translation complete. Translated workbookS saved as C:\\Users\\StanleyChan\\SynologyDrive\\Tech\\Tableau\\personal project\\Hostpital ER\\Hospital ER_ga.twb\n"
     ]
    }
   ],
   "source": [
    "import xml.etree.ElementTree as ET\n",
    "from deep_translator import GoogleTranslator\n",
    "import re\n",
    "import os\n",
    "\n",
    "# Function to translate text while keeping placeholders (e.g., <name>) intact\n",
    "def translate_with_placeholders(text, translator):\n",
    "    if text is None:\n",
    "        return \"\"\n",
    "    \n",
    "    # Ensure the text is always a string\n",
    "    text = str(text)\n",
    "    \n",
    "    # Regular expression to match both placeholders (e.g., <name>), square brackets (e.g., [Parameters].[Parameter 1]), and angle brackets (<, >)\n",
    "    placeholder_pattern = r\"(<[^>]+>)|(\\[Parameters\\]\\.\\[[^\\]]+\\])|(<)|(>)\"\n",
    "    \n",
    "    # Split the text into translatable parts and placeholders\n",
    "    parts = re.split(placeholder_pattern, text)\n",
    "    \n",
    "    # Translate only the parts that are not placeholders, not bracketed, and are not None, preserving leading/trailing spaces\n",
    "    translated_parts = []\n",
    "    for part in parts:\n",
    "        if re.match(placeholder_pattern, str(part)) or part is None:\n",
    "            translated_parts.append(part)\n",
    "        else:\n",
    "            # Preserve leading and trailing whitespace\n",
    "            leading_spaces = part[:len(part)-len(part.lstrip())]\n",
    "            trailing_spaces = part[len(part.rstrip()):]\n",
    "            \n",
    "            # Translate the middle part, excluding the leading/trailing spaces\n",
    "            translated_part = translator.translate(part.strip())\n",
    "            \n",
    "            # If the translator returns None, default to the original text\n",
    "            if translated_part is None:\n",
    "                translated_part = part.strip()\n",
    "            \n",
    "            # Combine leading spaces, translated part, and trailing spaces\n",
    "            translated_parts.append(leading_spaces + translated_part + trailing_spaces)\n",
    "    \n",
    "    # Recombine the translated parts and placeholders, ignoring None values\n",
    "    return ''.join(part for part in translated_parts if part is not None)\n",
    "\n",
    "\n",
    "\n",
    "\n",
    "# Function to replace text inside <run> tags nested under <zone>, <title>, or <format attr='title'>\n",
    "def tableau_workbook_translator(file_path, root,source_lang='en', target_lang='zh-TW'):\n",
    "\n",
    "    # Initialize the Google Translator\n",
    "    translator = GoogleTranslator(source=source_lang, target=target_lang)\n",
    "\n",
    "    # Search for <run> elements within <zone>, <title>, or <format attr='title'> elements\n",
    "    # Finding <zone> and <title> tags\n",
    "    for zone_or_title in root.findall('.//zone') + root.findall('.//title') + root.findall(\".//format[@attr='title']\") + root.findall(\".//style-rule\"):\n",
    "        # Loop through all <formatted-text> elements within <zone> or <title>\n",
    "        # Find all <run> elements inside the <formatted-text> element, no matter how deep\n",
    "        for run_element in zone_or_title.findall('.//run'):\n",
    "            if run_element.text:\n",
    "                # Translate the text in <run>, keeping placeholders intact\n",
    "                translated_text = translate_with_placeholders(run_element.text, translator)\n",
    "                if '<Parameter' in run_element.text or '[' in run_element.text:\n",
    "                    print(run_element.text + '   >>>>>    ' +translated_text)\n",
    "                # Replace the original text with the translated text\n",
    "                run_element.text = translated_text\n",
    "\n",
    "    # Construct a valid output file path\n",
    "    base_name = os.path.basename(file_path)\n",
    "    file_name, file_extension = os.path.splitext(base_name)\n",
    "    updated_file = os.path.join(os.path.dirname(file_path), f\"{file_name}_{target_lang}.twb\")\n",
    "\n",
    "    tree = ET.ElementTree(root)\n",
    "\n",
    "    # Write the updated XML back to the file\n",
    "    tree.write(updated_file, encoding='utf-8', xml_declaration=True)\n",
    "    print(f\"Translation complete. Translated workbookS saved as {updated_file}\")\n",
    "\n",
    "# available lang:\n",
    "# {'afrikaans': 'af', 'albanian': 'sq', 'amharic': 'am', 'arabic': 'ar', 'armenian': 'hy', 'assamese': 'as', 'aymara': 'ay', 'azerbaijani': 'az', 'bambara': 'bm', 'basque': 'eu', 'belarusian': 'be', 'bengali': 'bn', 'bhojpuri': 'bho', 'bosnian': 'bs', 'bulgarian': 'bg', 'catalan': 'ca', 'cebuano': 'ceb', 'chichewa': 'ny', 'chinese (simplified)': 'zh-CN', 'chinese (traditional)': 'zh-TW', 'corsican': 'co', 'croatian': 'hr', 'czech': 'cs', 'danish': 'da', 'dhivehi': 'dv', 'dogri': 'doi', 'dutch': 'nl', 'english': 'en', 'esperanto': 'eo', 'estonian': 'et', 'ewe': 'ee', 'filipino': 'tl', 'finnish': 'fi', 'french': 'fr', 'frisian': 'fy', 'galician': 'gl', 'georgian': 'ka', 'german': 'de', 'greek': 'el', 'guarani': 'gn', 'gujarati': 'gu', 'haitian creole': 'ht', 'hausa': 'ha', 'hawaiian': 'haw', 'hebrew': 'iw', 'hindi': 'hi', 'hmong': 'hmn', 'hungarian': 'hu', 'icelandic': 'is', 'igbo': 'ig', 'ilocano': 'ilo', 'indonesian': 'id', 'irish': 'ga', 'italian': 'it', 'japanese': 'ja', 'javanese': 'jw', 'kannada': 'kn', 'kazakh': 'kk', 'khmer': 'km', 'kinyarwanda': 'rw', 'konkani': 'gom', 'korean': 'ko', 'krio': 'kri', 'kurdish (kurmanji)': 'ku', 'kurdish (sorani)': 'ckb', 'kyrgyz': 'ky', 'lao': 'lo', 'latin': 'la', 'latvian': 'lv', 'lingala': 'ln', 'lithuanian': 'lt', 'luganda': 'lg', 'luxembourgish': 'lb', 'macedonian': 'mk', 'maithili': 'mai', 'malagasy': 'mg', 'malay': 'ms', 'malayalam': 'ml', 'maltese': 'mt', 'maori': 'mi', 'marathi': 'mr', 'meiteilon (manipuri)': 'mni-Mtei', 'mizo': 'lus', 'mongolian': 'mn', 'myanmar': 'my', 'nepali': 'ne', 'norwegian': 'no', 'odia (oriya)': 'or', 'oromo': 'om', 'pashto': 'ps', 'persian': 'fa', 'polish': 'pl', 'portuguese': 'pt', 'punjabi': 'pa', 'quechua': 'qu', 'romanian': 'ro', 'russian': 'ru', 'samoan': 'sm', 'sanskrit': 'sa', 'scots gaelic': 'gd', 'sepedi': 'nso', 'serbian': 'sr', 'sesotho': 'st', 'shona': 'sn', 'sindhi': 'sd', 'sinhala': 'si', 'slovak': 'sk', 'slovenian': 'sl', 'somali': 'so', 'spanish': 'es', 'sundanese': 'su', 'swahili': 'sw', 'swedish': 'sv', 'tajik': 'tg', 'tamil': 'ta', 'tatar': 'tt', 'telugu': 'te', 'thai': 'th', 'tigrinya': 'ti', 'tsonga': 'ts', 'turkish': 'tr', 'turkmen': 'tk', 'twi': 'ak', 'ukrainian': 'uk', 'urdu': 'ur', 'uyghur': 'ug', 'uzbek': 'uz', 'vietnamese': 'vi', 'welsh': 'cy', 'xhosa': 'xh', 'yiddish': 'yi', 'yoruba': 'yo', 'zulu': 'zu'}\n",
    "\n",
    "if __name__ == '__main__':\n",
    "    file_path = r\"C:\\Users\\StanleyChan\\SynologyDrive\\Tech\\Tableau\\personal project\\Hostpital ER\\Hospital ER.twb\"\n",
    "    tree = ET.parse(file_path)\n",
    "    root = tree.getroot()\n",
    "    tableau_workbook_translator(file_path, root,'en', 'ga')\n"
   ]
  },
  {
   "cell_type": "code",
   "execution_count": 11,
   "metadata": {},
   "outputs": [
    {
     "data": {
      "text/plain": [
       "[None]"
      ]
     },
     "execution_count": 11,
     "metadata": {},
     "output_type": "execute_result"
    }
   ],
   "source": [
    "translated_parts"
   ]
  }
 ],
 "metadata": {
  "kernelspec": {
   "display_name": "Python 3",
   "language": "python",
   "name": "python3"
  },
  "language_info": {
   "codemirror_mode": {
    "name": "ipython",
    "version": 3
   },
   "file_extension": ".py",
   "mimetype": "text/x-python",
   "name": "python",
   "nbconvert_exporter": "python",
   "pygments_lexer": "ipython3",
   "version": "3.8.0"
  }
 },
 "nbformat": 4,
 "nbformat_minor": 2
}
